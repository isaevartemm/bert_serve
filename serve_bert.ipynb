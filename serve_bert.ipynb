{
 "cells": [
  {
   "cell_type": "code",
   "execution_count": 13,
   "id": "e370afe5",
   "metadata": {},
   "outputs": [
    {
     "name": "stdout",
     "output_type": "stream",
     "text": [
      "Requirement already satisfied: spacy>=2.3.2 in c:\\users\\artyom\\anaconda3\\lib\\site-packages (from -r requirements.txt (line 1)) (3.4.3)\n",
      "Requirement already satisfied: streamlit>=0.62.1 in c:\\users\\artyom\\anaconda3\\lib\\site-packages (from -r requirements.txt (line 2)) (1.15.1)\n",
      "Requirement already satisfied: transformers>=3.1.0 in c:\\users\\artyom\\anaconda3\\lib\\site-packages (from -r requirements.txt (line 3)) (4.24.0)\n",
      "Requirement already satisfied: httpx>=0.15.3 in c:\\users\\artyom\\anaconda3\\lib\\site-packages (from -r requirements.txt (line 4)) (0.23.1)\n",
      "Requirement already satisfied: seaborn>=0.10.1 in c:\\users\\artyom\\anaconda3\\lib\\site-packages (from -r requirements.txt (line 5)) (0.11.2)\n",
      "Requirement already satisfied: torch-model-archiver in c:\\users\\artyom\\anaconda3\\lib\\site-packages (from -r requirements.txt (line 6)) (0.6.1)\n",
      "Requirement already satisfied: torchserve in c:\\users\\artyom\\anaconda3\\lib\\site-packages (from -r requirements.txt (line 7)) (0.6.1)\n",
      "Collecting utils\n",
      "  Downloading utils-1.0.1-py2.py3-none-any.whl (21 kB)\n",
      "Requirement already satisfied: typer<0.8.0,>=0.3.0 in c:\\users\\artyom\\anaconda3\\lib\\site-packages (from spacy>=2.3.2->-r requirements.txt (line 1)) (0.7.0)\n",
      "Requirement already satisfied: catalogue<2.1.0,>=2.0.6 in c:\\users\\artyom\\anaconda3\\lib\\site-packages (from spacy>=2.3.2->-r requirements.txt (line 1)) (2.0.8)\n",
      "Requirement already satisfied: requests<3.0.0,>=2.13.0 in c:\\users\\artyom\\anaconda3\\lib\\site-packages (from spacy>=2.3.2->-r requirements.txt (line 1)) (2.28.1)\n",
      "Requirement already satisfied: murmurhash<1.1.0,>=0.28.0 in c:\\users\\artyom\\anaconda3\\lib\\site-packages (from spacy>=2.3.2->-r requirements.txt (line 1)) (1.0.9)\n",
      "Requirement already satisfied: srsly<3.0.0,>=2.4.3 in c:\\users\\artyom\\anaconda3\\lib\\site-packages (from spacy>=2.3.2->-r requirements.txt (line 1)) (2.4.5)\n",
      "Requirement already satisfied: spacy-legacy<3.1.0,>=3.0.10 in c:\\users\\artyom\\anaconda3\\lib\\site-packages (from spacy>=2.3.2->-r requirements.txt (line 1)) (3.0.10)\n",
      "Requirement already satisfied: packaging>=20.0 in c:\\users\\artyom\\anaconda3\\lib\\site-packages (from spacy>=2.3.2->-r requirements.txt (line 1)) (21.3)\n",
      "Requirement already satisfied: pydantic!=1.8,!=1.8.1,<1.11.0,>=1.7.4 in c:\\users\\artyom\\anaconda3\\lib\\site-packages (from spacy>=2.3.2->-r requirements.txt (line 1)) (1.10.2)\n",
      "Requirement already satisfied: pathy>=0.3.5 in c:\\users\\artyom\\anaconda3\\lib\\site-packages (from spacy>=2.3.2->-r requirements.txt (line 1)) (0.8.1)\n",
      "Requirement already satisfied: wasabi<1.1.0,>=0.9.1 in c:\\users\\artyom\\anaconda3\\lib\\site-packages (from spacy>=2.3.2->-r requirements.txt (line 1)) (0.10.1)\n",
      "Requirement already satisfied: numpy>=1.15.0 in c:\\users\\artyom\\anaconda3\\lib\\site-packages (from spacy>=2.3.2->-r requirements.txt (line 1)) (1.21.5)\n",
      "Requirement already satisfied: thinc<8.2.0,>=8.1.0 in c:\\users\\artyom\\anaconda3\\lib\\site-packages (from spacy>=2.3.2->-r requirements.txt (line 1)) (8.1.5)\n",
      "Requirement already satisfied: langcodes<4.0.0,>=3.2.0 in c:\\users\\artyom\\anaconda3\\lib\\site-packages (from spacy>=2.3.2->-r requirements.txt (line 1)) (3.3.0)\n",
      "Requirement already satisfied: setuptools in c:\\users\\artyom\\anaconda3\\lib\\site-packages (from spacy>=2.3.2->-r requirements.txt (line 1)) (65.6.0)\n",
      "Requirement already satisfied: jinja2 in c:\\users\\artyom\\anaconda3\\lib\\site-packages (from spacy>=2.3.2->-r requirements.txt (line 1)) (2.11.3)\n",
      "Requirement already satisfied: preshed<3.1.0,>=3.0.2 in c:\\users\\artyom\\anaconda3\\lib\\site-packages (from spacy>=2.3.2->-r requirements.txt (line 1)) (3.0.8)\n",
      "Requirement already satisfied: spacy-loggers<2.0.0,>=1.0.0 in c:\\users\\artyom\\anaconda3\\lib\\site-packages (from spacy>=2.3.2->-r requirements.txt (line 1)) (1.0.3)\n",
      "Requirement already satisfied: cymem<2.1.0,>=2.0.2 in c:\\users\\artyom\\anaconda3\\lib\\site-packages (from spacy>=2.3.2->-r requirements.txt (line 1)) (2.0.7)\n",
      "Requirement already satisfied: tqdm<5.0.0,>=4.38.0 in c:\\users\\artyom\\anaconda3\\lib\\site-packages (from spacy>=2.3.2->-r requirements.txt (line 1)) (4.64.1)\n",
      "Requirement already satisfied: gitpython!=3.1.19 in c:\\users\\artyom\\anaconda3\\lib\\site-packages (from streamlit>=0.62.1->-r requirements.txt (line 2)) (3.1.29)\n",
      "Requirement already satisfied: importlib-metadata>=1.4 in c:\\users\\artyom\\anaconda3\\lib\\site-packages (from streamlit>=0.62.1->-r requirements.txt (line 2)) (4.11.3)\n",
      "Requirement already satisfied: python-dateutil in c:\\users\\artyom\\anaconda3\\lib\\site-packages (from streamlit>=0.62.1->-r requirements.txt (line 2)) (2.8.2)\n",
      "Requirement already satisfied: semver in c:\\users\\artyom\\anaconda3\\lib\\site-packages (from streamlit>=0.62.1->-r requirements.txt (line 2)) (2.13.0)\n",
      "Requirement already satisfied: pyarrow>=4.0 in c:\\users\\artyom\\anaconda3\\lib\\site-packages (from streamlit>=0.62.1->-r requirements.txt (line 2)) (10.0.0)\n",
      "Requirement already satisfied: altair>=3.2.0 in c:\\users\\artyom\\anaconda3\\lib\\site-packages (from streamlit>=0.62.1->-r requirements.txt (line 2)) (4.2.0)\n",
      "Requirement already satisfied: pandas>=0.21.0 in c:\\users\\artyom\\anaconda3\\lib\\site-packages (from streamlit>=0.62.1->-r requirements.txt (line 2)) (1.4.4)\n",
      "Requirement already satisfied: pillow>=6.2.0 in c:\\users\\artyom\\anaconda3\\lib\\site-packages (from streamlit>=0.62.1->-r requirements.txt (line 2)) (9.2.0)\n",
      "Requirement already satisfied: protobuf<4,>=3.12 in c:\\users\\artyom\\anaconda3\\lib\\site-packages (from streamlit>=0.62.1->-r requirements.txt (line 2)) (3.20.3)\n",
      "Requirement already satisfied: pympler>=0.9 in c:\\users\\artyom\\anaconda3\\lib\\site-packages (from streamlit>=0.62.1->-r requirements.txt (line 2)) (1.0.1)\n",
      "Requirement already satisfied: toml in c:\\users\\artyom\\anaconda3\\lib\\site-packages (from streamlit>=0.62.1->-r requirements.txt (line 2)) (0.10.2)\n",
      "Requirement already satisfied: tzlocal>=1.1 in c:\\users\\artyom\\anaconda3\\lib\\site-packages (from streamlit>=0.62.1->-r requirements.txt (line 2)) (4.2)\n",
      "Requirement already satisfied: rich>=10.11.0 in c:\\users\\artyom\\anaconda3\\lib\\site-packages (from streamlit>=0.62.1->-r requirements.txt (line 2)) (12.6.0)\n",
      "Requirement already satisfied: cachetools>=4.0 in c:\\users\\artyom\\anaconda3\\lib\\site-packages (from streamlit>=0.62.1->-r requirements.txt (line 2)) (5.2.0)\n",
      "Requirement already satisfied: watchdog in c:\\users\\artyom\\anaconda3\\lib\\site-packages (from streamlit>=0.62.1->-r requirements.txt (line 2)) (2.1.6)\n",
      "Requirement already satisfied: click>=7.0 in c:\\users\\artyom\\anaconda3\\lib\\site-packages (from streamlit>=0.62.1->-r requirements.txt (line 2)) (8.0.4)\n",
      "Requirement already satisfied: validators>=0.2 in c:\\users\\artyom\\anaconda3\\lib\\site-packages (from streamlit>=0.62.1->-r requirements.txt (line 2)) (0.20.0)\n",
      "Requirement already satisfied: typing-extensions>=3.10.0.0 in c:\\users\\artyom\\anaconda3\\lib\\site-packages (from streamlit>=0.62.1->-r requirements.txt (line 2)) (4.3.0)\n",
      "Requirement already satisfied: pydeck>=0.1.dev5 in c:\\users\\artyom\\anaconda3\\lib\\site-packages (from streamlit>=0.62.1->-r requirements.txt (line 2)) (0.8.0)\n",
      "Requirement already satisfied: blinker>=1.0.0 in c:\\users\\artyom\\anaconda3\\lib\\site-packages (from streamlit>=0.62.1->-r requirements.txt (line 2)) (1.5)\n",
      "Requirement already satisfied: tornado>=5.0 in c:\\users\\artyom\\anaconda3\\lib\\site-packages (from streamlit>=0.62.1->-r requirements.txt (line 2)) (6.1)\n",
      "Requirement already satisfied: regex!=2019.12.17 in c:\\users\\artyom\\anaconda3\\lib\\site-packages (from transformers>=3.1.0->-r requirements.txt (line 3)) (2022.7.9)\n",
      "Requirement already satisfied: tokenizers!=0.11.3,<0.14,>=0.11.1 in c:\\users\\artyom\\anaconda3\\lib\\site-packages (from transformers>=3.1.0->-r requirements.txt (line 3)) (0.13.2)\n",
      "Requirement already satisfied: pyyaml>=5.1 in c:\\users\\artyom\\anaconda3\\lib\\site-packages (from transformers>=3.1.0->-r requirements.txt (line 3)) (6.0)\n",
      "Requirement already satisfied: huggingface-hub<1.0,>=0.10.0 in c:\\users\\artyom\\anaconda3\\lib\\site-packages (from transformers>=3.1.0->-r requirements.txt (line 3)) (0.11.0)\n",
      "Requirement already satisfied: filelock in c:\\users\\artyom\\anaconda3\\lib\\site-packages (from transformers>=3.1.0->-r requirements.txt (line 3)) (3.6.0)\n",
      "Requirement already satisfied: rfc3986[idna2008]<2,>=1.3 in c:\\users\\artyom\\anaconda3\\lib\\site-packages (from httpx>=0.15.3->-r requirements.txt (line 4)) (1.5.0)\n",
      "Requirement already satisfied: httpcore<0.17.0,>=0.15.0 in c:\\users\\artyom\\anaconda3\\lib\\site-packages (from httpx>=0.15.3->-r requirements.txt (line 4)) (0.16.1)\n",
      "Requirement already satisfied: certifi in c:\\users\\artyom\\anaconda3\\lib\\site-packages (from httpx>=0.15.3->-r requirements.txt (line 4)) (2022.9.14)\n",
      "Requirement already satisfied: sniffio in c:\\users\\artyom\\anaconda3\\lib\\site-packages (from httpx>=0.15.3->-r requirements.txt (line 4)) (1.2.0)\n",
      "Requirement already satisfied: matplotlib>=2.2 in c:\\users\\artyom\\anaconda3\\lib\\site-packages (from seaborn>=0.10.1->-r requirements.txt (line 5)) (3.5.2)\n",
      "Requirement already satisfied: scipy>=1.0 in c:\\users\\artyom\\anaconda3\\lib\\site-packages (from seaborn>=0.10.1->-r requirements.txt (line 5)) (1.9.1)\n",
      "Requirement already satisfied: future in c:\\users\\artyom\\anaconda3\\lib\\site-packages (from torch-model-archiver->-r requirements.txt (line 6)) (0.18.2)\n",
      "Requirement already satisfied: enum-compat in c:\\users\\artyom\\anaconda3\\lib\\site-packages (from torch-model-archiver->-r requirements.txt (line 6)) (0.0.3)\n",
      "Requirement already satisfied: psutil in c:\\users\\artyom\\anaconda3\\lib\\site-packages (from torchserve->-r requirements.txt (line 7)) (5.9.4)\n",
      "Requirement already satisfied: wheel in c:\\users\\artyom\\anaconda3\\lib\\site-packages (from torchserve->-r requirements.txt (line 7)) (0.38.4)\n",
      "Requirement already satisfied: jsonschema>=3.0 in c:\\users\\artyom\\anaconda3\\lib\\site-packages (from altair>=3.2.0->streamlit>=0.62.1->-r requirements.txt (line 2)) (4.16.0)\n",
      "Requirement already satisfied: toolz in c:\\users\\artyom\\anaconda3\\lib\\site-packages (from altair>=3.2.0->streamlit>=0.62.1->-r requirements.txt (line 2)) (0.11.2)\n",
      "Requirement already satisfied: entrypoints in c:\\users\\artyom\\anaconda3\\lib\\site-packages (from altair>=3.2.0->streamlit>=0.62.1->-r requirements.txt (line 2)) (0.4)\n",
      "Requirement already satisfied: colorama in c:\\users\\artyom\\anaconda3\\lib\\site-packages (from click>=7.0->streamlit>=0.62.1->-r requirements.txt (line 2)) (0.4.5)\n",
      "Requirement already satisfied: gitdb<5,>=4.0.1 in c:\\users\\artyom\\anaconda3\\lib\\site-packages (from gitpython!=3.1.19->streamlit>=0.62.1->-r requirements.txt (line 2)) (4.0.9)\n",
      "Requirement already satisfied: anyio<5.0,>=3.0 in c:\\users\\artyom\\anaconda3\\lib\\site-packages (from httpcore<0.17.0,>=0.15.0->httpx>=0.15.3->-r requirements.txt (line 4)) (3.5.0)\n",
      "Requirement already satisfied: h11<0.15,>=0.13 in c:\\users\\artyom\\anaconda3\\lib\\site-packages (from httpcore<0.17.0,>=0.15.0->httpx>=0.15.3->-r requirements.txt (line 4)) (0.14.0)\n",
      "Requirement already satisfied: zipp>=0.5 in c:\\users\\artyom\\anaconda3\\lib\\site-packages (from importlib-metadata>=1.4->streamlit>=0.62.1->-r requirements.txt (line 2)) (3.8.0)\n",
      "Requirement already satisfied: fonttools>=4.22.0 in c:\\users\\artyom\\anaconda3\\lib\\site-packages (from matplotlib>=2.2->seaborn>=0.10.1->-r requirements.txt (line 5)) (4.25.0)\n",
      "Requirement already satisfied: cycler>=0.10 in c:\\users\\artyom\\anaconda3\\lib\\site-packages (from matplotlib>=2.2->seaborn>=0.10.1->-r requirements.txt (line 5)) (0.11.0)\n",
      "Requirement already satisfied: pyparsing>=2.2.1 in c:\\users\\artyom\\anaconda3\\lib\\site-packages (from matplotlib>=2.2->seaborn>=0.10.1->-r requirements.txt (line 5)) (3.0.9)\n",
      "Requirement already satisfied: kiwisolver>=1.0.1 in c:\\users\\artyom\\anaconda3\\lib\\site-packages (from matplotlib>=2.2->seaborn>=0.10.1->-r requirements.txt (line 5)) (1.4.2)\n",
      "Requirement already satisfied: pytz>=2020.1 in c:\\users\\artyom\\anaconda3\\lib\\site-packages (from pandas>=0.21.0->streamlit>=0.62.1->-r requirements.txt (line 2)) (2022.1)\n",
      "Requirement already satisfied: smart-open<6.0.0,>=5.2.1 in c:\\users\\artyom\\anaconda3\\lib\\site-packages (from pathy>=0.3.5->spacy>=2.3.2->-r requirements.txt (line 1)) (5.2.1)\n",
      "Requirement already satisfied: MarkupSafe>=0.23 in c:\\users\\artyom\\anaconda3\\lib\\site-packages (from jinja2->spacy>=2.3.2->-r requirements.txt (line 1)) (2.0.1)\n",
      "Requirement already satisfied: six>=1.5 in c:\\users\\artyom\\anaconda3\\lib\\site-packages (from python-dateutil->streamlit>=0.62.1->-r requirements.txt (line 2)) (1.16.0)\n",
      "Requirement already satisfied: urllib3<1.27,>=1.21.1 in c:\\users\\artyom\\anaconda3\\lib\\site-packages (from requests<3.0.0,>=2.13.0->spacy>=2.3.2->-r requirements.txt (line 1)) (1.26.11)\n",
      "Requirement already satisfied: idna<4,>=2.5 in c:\\users\\artyom\\anaconda3\\lib\\site-packages (from requests<3.0.0,>=2.13.0->spacy>=2.3.2->-r requirements.txt (line 1)) (3.3)\n",
      "Requirement already satisfied: charset-normalizer<3,>=2 in c:\\users\\artyom\\anaconda3\\lib\\site-packages (from requests<3.0.0,>=2.13.0->spacy>=2.3.2->-r requirements.txt (line 1)) (2.0.4)\n",
      "Requirement already satisfied: pygments<3.0.0,>=2.6.0 in c:\\users\\artyom\\anaconda3\\lib\\site-packages (from rich>=10.11.0->streamlit>=0.62.1->-r requirements.txt (line 2)) (2.11.2)\n",
      "Requirement already satisfied: commonmark<0.10.0,>=0.9.0 in c:\\users\\artyom\\anaconda3\\lib\\site-packages (from rich>=10.11.0->streamlit>=0.62.1->-r requirements.txt (line 2)) (0.9.1)\n",
      "Requirement already satisfied: confection<1.0.0,>=0.0.1 in c:\\users\\artyom\\anaconda3\\lib\\site-packages (from thinc<8.2.0,>=8.1.0->spacy>=2.3.2->-r requirements.txt (line 1)) (0.0.3)\n",
      "Requirement already satisfied: blis<0.8.0,>=0.7.8 in c:\\users\\artyom\\anaconda3\\lib\\site-packages (from thinc<8.2.0,>=8.1.0->spacy>=2.3.2->-r requirements.txt (line 1)) (0.7.9)\n",
      "Requirement already satisfied: pytz-deprecation-shim in c:\\users\\artyom\\anaconda3\\lib\\site-packages (from tzlocal>=1.1->streamlit>=0.62.1->-r requirements.txt (line 2)) (0.1.0.post0)\n",
      "Requirement already satisfied: tzdata in c:\\users\\artyom\\anaconda3\\lib\\site-packages (from tzlocal>=1.1->streamlit>=0.62.1->-r requirements.txt (line 2)) (2022.6)\n",
      "Requirement already satisfied: decorator>=3.4.0 in c:\\users\\artyom\\anaconda3\\lib\\site-packages (from validators>=0.2->streamlit>=0.62.1->-r requirements.txt (line 2)) (5.1.1)\n",
      "Requirement already satisfied: smmap<6,>=3.0.1 in c:\\users\\artyom\\anaconda3\\lib\\site-packages (from gitdb<5,>=4.0.1->gitpython!=3.1.19->streamlit>=0.62.1->-r requirements.txt (line 2)) (5.0.0)\n",
      "Requirement already satisfied: attrs>=17.4.0 in c:\\users\\artyom\\anaconda3\\lib\\site-packages (from jsonschema>=3.0->altair>=3.2.0->streamlit>=0.62.1->-r requirements.txt (line 2)) (21.4.0)\n",
      "Requirement already satisfied: pyrsistent!=0.17.0,!=0.17.1,!=0.17.2,>=0.14.0 in c:\\users\\artyom\\anaconda3\\lib\\site-packages (from jsonschema>=3.0->altair>=3.2.0->streamlit>=0.62.1->-r requirements.txt (line 2)) (0.18.0)\n",
      "Installing collected packages: utils\n",
      "Successfully installed utils-1.0.1\n"
     ]
    }
   ],
   "source": [
    "!pip install -r requirements.txt"
   ]
  },
  {
   "cell_type": "code",
   "execution_count": 11,
   "id": "16976240",
   "metadata": {},
   "outputs": [
    {
     "name": "stdout",
     "output_type": "stream",
     "text": [
      "[WinError 3] Системе не удается найти указанный путь: 'serve_bert/example'\n",
      "C:\\Users\\Artyom\\serve_bert\\example\n"
     ]
    }
   ],
   "source": [
    "%cd serve_bert/example"
   ]
  },
  {
   "cell_type": "code",
   "execution_count": 5,
   "id": "457b6ea6",
   "metadata": {},
   "outputs": [
    {
     "data": {
      "text/plain": [
       "'C:\\\\Users\\\\Artyom\\\\serve_bert\\\\example'"
      ]
     },
     "execution_count": 5,
     "metadata": {},
     "output_type": "execute_result"
    }
   ],
   "source": [
    "%pwd"
   ]
  },
  {
   "cell_type": "code",
   "execution_count": 4,
   "id": "549028a9",
   "metadata": {},
   "outputs": [
    {
     "data": {
      "application/vnd.jupyter.widget-view+json": {
       "model_id": "3c72fb1a9a5a49da8800a0d05bb2003b",
       "version_major": 2,
       "version_minor": 0
      },
      "text/plain": [
       "Downloading:   0%|          | 0.00/632 [00:00<?, ?B/s]"
      ]
     },
     "metadata": {},
     "output_type": "display_data"
    },
    {
     "name": "stderr",
     "output_type": "stream",
     "text": [
      "C:\\Users\\Artyom\\anaconda3\\lib\\site-packages\\huggingface_hub\\file_download.py:125: UserWarning: `huggingface_hub` cache-system uses symlinks by default to efficiently store duplicated files but your machine does not support them in C:\\Users\\Artyom\\.cache\\huggingface\\hub. Caching files will still work but in a degraded version that might require more space on your disk. This warning can be disabled by setting the `HF_HUB_DISABLE_SYMLINKS_WARNING` environment variable. For more details, see https://huggingface.co/docs/huggingface_hub/how-to-cache#limitations.\n",
      "To support symlinks on Windows, you either need to activate Developer Mode or to run Python as an administrator. In order to see activate developer mode, see this article: https://docs.microsoft.com/en-us/windows/apps/get-started/enable-your-device-for-development\n",
      "  warnings.warn(message)\n"
     ]
    },
    {
     "data": {
      "application/vnd.jupyter.widget-view+json": {
       "model_id": "e5561429498743a28db18e9e7e467b7c",
       "version_major": 2,
       "version_minor": 0
      },
      "text/plain": [
       "Downloading:   0%|          | 0.00/47.7M [00:00<?, ?B/s]"
      ]
     },
     "metadata": {},
     "output_type": "display_data"
    },
    {
     "name": "stderr",
     "output_type": "stream",
     "text": [
      "Some weights of the model checkpoint at cointegrated/rubert-tiny were not used when initializing BertModel: ['cls.predictions.transform.LayerNorm.weight', 'cls.predictions.transform.LayerNorm.bias', 'cls.predictions.bias', 'cls.predictions.decoder.bias', 'cls.seq_relationship.bias', 'cls.predictions.decoder.weight', 'cls.predictions.transform.dense.bias', 'cls.seq_relationship.weight', 'cls.predictions.transform.dense.weight']\n",
      "- This IS expected if you are initializing BertModel from the checkpoint of a model trained on another task or with another architecture (e.g. initializing a BertForSequenceClassification model from a BertForPreTraining model).\n",
      "- This IS NOT expected if you are initializing BertModel from the checkpoint of a model that you expect to be exactly identical (initializing a BertForSequenceClassification model from a BertForSequenceClassification model).\n"
     ]
    }
   ],
   "source": [
    "from transformers import AutoModel\n",
    "\n",
    "model = AutoModel.from_pretrained(\"cointegrated/rubert-tiny\")\n",
    "\n",
    "# Push the model to your namespace with the name \"my-finetuned-bert\".\n",
    "model.save_pretrained(\"my-finetuned-bert\")"
   ]
  },
  {
   "cell_type": "code",
   "execution_count": 8,
   "id": "a9e1d7db",
   "metadata": {},
   "outputs": [],
   "source": [
    "model_store_dir = \"./model_store\"\n",
    "serialized = \"./my-finetuned-bert/pytorch_model.bin\"\n",
    "model_config = \"./my-finetuned-bert/config.json\""
   ]
  },
  {
   "cell_type": "code",
   "execution_count": 9,
   "id": "153bf556",
   "metadata": {},
   "outputs": [],
   "source": [
    "!torch-model-archiver --model-name lit_sentiment_model \\\n",
    "--version 0.1 \\\n",
    "--serialized-file \"$serialized\" \\\n",
    "--handler ../serving/serve_pretrained.py \\\n",
    "--runtime python3 \\\n",
    "--extra-files \"$model_config\" \\\n",
    "--export-path \"$model_store_dir\""
   ]
  },
  {
   "cell_type": "code",
   "execution_count": 10,
   "id": "5e8a48c3",
   "metadata": {},
   "outputs": [
    {
     "name": "stdout",
     "output_type": "stream",
     "text": [
      "WARNING: sun.reflect.Reflection.getCallerClass is not supported. This will impact performance.\n",
      "2022-11-22T22:36:55,430 [INFO ] main org.pytorch.serve.servingsdk.impl.PluginsManager - Initializing plugins manager...\n",
      "2022-11-22T22:36:55,696 [INFO ] main org.pytorch.serve.ModelServer - \n",
      "Torchserve version: 0.6.1\n",
      "TS Home: C:\\Users\\Artyom\\Anaconda3\\Lib\\site-packages\n",
      "Current directory: C:\\Users\\Artyom\\serve_bert\\example\n",
      "Temp directory: C:\\Users\\Artyom\\AppData\\Local\\Temp\n",
      "Metrics config path: C:\\Users\\Artyom\\Anaconda3\\Lib\\site-packages/ts/configs/metrics.yaml\n",
      "Number of GPUs: 0\n",
      "Number of CPUs: 4\n",
      "Max heap size: 1522 M\n",
      "Python executable: C:\\Users\\Artyom\\anaconda3\\python.exe\n",
      "Config file: ./torchserve.config\n",
      "Inference address: http://127.0.0.1:7863\n",
      "Management address: http://127.0.0.1:8863\n",
      "Metrics address: http://127.0.0.1:8864\n",
      "Model Store: C:\\Users\\Artyom\\serve_bert\\example\\model_store\n",
      "Initial Models: sentiment_model=lit_sentiment_model.mar\n",
      "Log dir: C:\\Users\\Artyom\\serve_bert\\example\\logs\n",
      "Metrics dir: C:\\Users\\Artyom\\serve_bert\\example\\logs\n",
      "Netty threads: 0\n",
      "Netty client threads: 0\n",
      "Default workers per model: 4\n",
      "Blacklist Regex: N/A\n",
      "Maximum Response Size: 6553500\n",
      "Maximum Request Size: 6553500\n",
      "Limit Maximum Image Pixels: true\n",
      "Prefer direct buffer: false\n",
      "Allowed Urls: [file://.*|http(s)?://.*]\n",
      "Custom python dependency for model allowed: false\n",
      "Metrics report format: prometheus\n",
      "Enable metrics API: true\n",
      "Workflow Store: C:\\Users\\Artyom\\serve_bert\\example\\model_store\n",
      "Model config: N/A\n",
      "2022-11-22T22:36:55,708 [INFO ] main org.pytorch.serve.servingsdk.impl.PluginsManager -  Loading snapshot serializer plugin...\n",
      "2022-11-22T22:36:55,744 [INFO ] main org.pytorch.serve.ModelServer - Loading initial models: lit_sentiment_model.mar\n",
      "2022-11-22T22:36:57,159 [DEBUG] main org.pytorch.serve.wlm.ModelVersionedRefs - Adding new version 0.1 for model sentiment_model\n",
      "2022-11-22T22:36:57,160 [DEBUG] main org.pytorch.serve.wlm.ModelVersionedRefs - Setting default version to 0.1 for model sentiment_model\n",
      "2022-11-22T22:36:57,160 [INFO ] main org.pytorch.serve.wlm.ModelManager - Model sentiment_model loaded.\n",
      "2022-11-22T22:36:57,160 [DEBUG] main org.pytorch.serve.wlm.ModelManager - updateModel: sentiment_model, count: 4\n",
      "2022-11-22T22:36:57,177 [DEBUG] W-9001-sentiment_model_0.1 org.pytorch.serve.wlm.WorkerLifeCycle - Worker cmdline: [python3, C:\\Users\\Artyom\\Anaconda3\\Lib\\site-packages\\ts\\model_service_worker.py, --sock-type, tcp, --port, 9001, --metrics-config, C:\\Users\\Artyom\\Anaconda3\\Lib\\site-packages/ts/configs/metrics.yaml]\n",
      "2022-11-22T22:36:57,177 [DEBUG] W-9000-sentiment_model_0.1 org.pytorch.serve.wlm.WorkerLifeCycle - Worker cmdline: [python3, C:\\Users\\Artyom\\Anaconda3\\Lib\\site-packages\\ts\\model_service_worker.py, --sock-type, tcp, --port, 9000, --metrics-config, C:\\Users\\Artyom\\Anaconda3\\Lib\\site-packages/ts/configs/metrics.yaml]\n",
      "2022-11-22T22:36:57,178 [DEBUG] W-9003-sentiment_model_0.1 org.pytorch.serve.wlm.WorkerLifeCycle - Worker cmdline: [python3, C:\\Users\\Artyom\\Anaconda3\\Lib\\site-packages\\ts\\model_service_worker.py, --sock-type, tcp, --port, 9003, --metrics-config, C:\\Users\\Artyom\\Anaconda3\\Lib\\site-packages/ts/configs/metrics.yaml]\n",
      "2022-11-22T22:36:57,180 [INFO ] main org.pytorch.serve.ModelServer - Initialize Inference server with: NioServerSocketChannel.\n",
      "2022-11-22T22:36:57,182 [DEBUG] W-9002-sentiment_model_0.1 org.pytorch.serve.wlm.WorkerLifeCycle - Worker cmdline: [python3, C:\\Users\\Artyom\\Anaconda3\\Lib\\site-packages\\ts\\model_service_worker.py, --sock-type, tcp, --port, 9002, --metrics-config, C:\\Users\\Artyom\\Anaconda3\\Lib\\site-packages/ts/configs/metrics.yaml]\n",
      "2022-11-22T22:36:57,517 [INFO ] W-9001-sentiment_model_0.1-stdout org.pytorch.serve.wlm.WorkerLifeCycle - Stopped Scanner - W-9001-sentiment_model_0.1-stdout\n",
      "2022-11-22T22:36:57,517 [WARN ] W-9001-sentiment_model_0.1-stderr MODEL_LOG - Python \n",
      "2022-11-22T22:36:57,518 [INFO ] W-9001-sentiment_model_0.1-stderr org.pytorch.serve.wlm.WorkerLifeCycle - Stopped Scanner - W-9001-sentiment_model_0.1-stderr\n",
      "2022-11-22T22:36:57,518 [WARN ] W-9001-sentiment_model_0.1 org.pytorch.serve.wlm.WorkerLifeCycle - terminateIOStreams() threadName=W-9001-sentiment_model_0.1-stderr\n",
      "2022-11-22T22:36:57,519 [WARN ] W-9001-sentiment_model_0.1 org.pytorch.serve.wlm.WorkerLifeCycle - terminateIOStreams() threadName=W-9001-sentiment_model_0.1-stdout\n",
      "2022-11-22T22:36:57,519 [ERROR] W-9001-sentiment_model_0.1 org.pytorch.serve.wlm.WorkerThread - Backend worker error\n",
      "org.pytorch.serve.wlm.WorkerInitializationException: Backend stream closed.\n",
      "\tat org.pytorch.serve.wlm.WorkerLifeCycle.startWorker(WorkerLifeCycle.java:155) ~[model-server.jar:?]\n",
      "\tat org.pytorch.serve.wlm.WorkerThread.connect(WorkerThread.java:292) ~[model-server.jar:?]\n",
      "\tat org.pytorch.serve.wlm.WorkerThread.run(WorkerThread.java:179) [model-server.jar:?]\n",
      "\tat java.util.concurrent.Executors$RunnableAdapter.call(Executors.java:577) [?:?]\n",
      "\tat java.util.concurrent.FutureTask.run(FutureTask.java:317) [?:?]\n",
      "\tat java.util.concurrent.ThreadPoolExecutor.runWorker(ThreadPoolExecutor.java:1144) [?:?]\n",
      "\tat java.util.concurrent.ThreadPoolExecutor$Worker.run(ThreadPoolExecutor.java:642) [?:?]\n",
      "\tat java.lang.Thread.run(Thread.java:1589) [?:?]\n",
      "2022-11-22T22:36:57,541 [WARN ] W-9002-sentiment_model_0.1-stderr MODEL_LOG - Python \n",
      "2022-11-22T22:36:57,541 [INFO ] W-9002-sentiment_model_0.1-stdout org.pytorch.serve.wlm.WorkerLifeCycle - Stopped Scanner - W-9002-sentiment_model_0.1-stdout\n",
      "2022-11-22T22:36:57,542 [INFO ] W-9002-sentiment_model_0.1-stderr org.pytorch.serve.wlm.WorkerLifeCycle - Stopped Scanner - W-9002-sentiment_model_0.1-stderr\n",
      "2022-11-22T22:36:57,542 [WARN ] W-9002-sentiment_model_0.1 org.pytorch.serve.wlm.WorkerLifeCycle - terminateIOStreams() threadName=W-9002-sentiment_model_0.1-stderr\n",
      "2022-11-22T22:36:57,543 [WARN ] W-9002-sentiment_model_0.1 org.pytorch.serve.wlm.WorkerLifeCycle - terminateIOStreams() threadName=W-9002-sentiment_model_0.1-stdout\n",
      "2022-11-22T22:36:57,543 [ERROR] W-9002-sentiment_model_0.1 org.pytorch.serve.wlm.WorkerThread - Backend worker error\n",
      "org.pytorch.serve.wlm.WorkerInitializationException: Backend stream closed.\n",
      "\tat org.pytorch.serve.wlm.WorkerLifeCycle.startWorker(WorkerLifeCycle.java:155) ~[model-server.jar:?]\n",
      "\tat org.pytorch.serve.wlm.WorkerThread.connect(WorkerThread.java:292) ~[model-server.jar:?]\n",
      "\tat org.pytorch.serve.wlm.WorkerThread.run(WorkerThread.java:179) [model-server.jar:?]\n",
      "\tat java.util.concurrent.Executors$RunnableAdapter.call(Executors.java:577) [?:?]\n",
      "\tat java.util.concurrent.FutureTask.run(FutureTask.java:317) [?:?]\n",
      "\tat java.util.concurrent.ThreadPoolExecutor.runWorker(ThreadPoolExecutor.java:1144) [?:?]\n",
      "\tat java.util.concurrent.ThreadPoolExecutor$Worker.run(ThreadPoolExecutor.java:642) [?:?]\n",
      "\tat java.lang.Thread.run(Thread.java:1589) [?:?]\n",
      "2022-11-22T22:36:57,578 [WARN ] W-9003-sentiment_model_0.1-stderr MODEL_LOG - Python \n",
      "2022-11-22T22:36:57,578 [INFO ] W-9003-sentiment_model_0.1-stdout org.pytorch.serve.wlm.WorkerLifeCycle - Stopped Scanner - W-9003-sentiment_model_0.1-stdout\n",
      "2022-11-22T22:36:57,579 [INFO ] W-9003-sentiment_model_0.1-stderr org.pytorch.serve.wlm.WorkerLifeCycle - Stopped Scanner - W-9003-sentiment_model_0.1-stderr\n",
      "2022-11-22T22:36:57,579 [WARN ] W-9003-sentiment_model_0.1 org.pytorch.serve.wlm.WorkerLifeCycle - terminateIOStreams() threadName=W-9003-sentiment_model_0.1-stderr\n",
      "2022-11-22T22:36:57,579 [WARN ] W-9003-sentiment_model_0.1 org.pytorch.serve.wlm.WorkerLifeCycle - terminateIOStreams() threadName=W-9003-sentiment_model_0.1-stdout\n",
      "2022-11-22T22:36:57,579 [ERROR] W-9003-sentiment_model_0.1 org.pytorch.serve.wlm.WorkerThread - Backend worker error\n",
      "org.pytorch.serve.wlm.WorkerInitializationException: Backend stream closed.\n",
      "\tat org.pytorch.serve.wlm.WorkerLifeCycle.startWorker(WorkerLifeCycle.java:155) ~[model-server.jar:?]\n",
      "\tat org.pytorch.serve.wlm.WorkerThread.connect(WorkerThread.java:292) ~[model-server.jar:?]\n",
      "\tat org.pytorch.serve.wlm.WorkerThread.run(WorkerThread.java:179) [model-server.jar:?]\n",
      "\tat java.util.concurrent.Executors$RunnableAdapter.call(Executors.java:577) [?:?]\n",
      "\tat java.util.concurrent.FutureTask.run(FutureTask.java:317) [?:?]\n",
      "\tat java.util.concurrent.ThreadPoolExecutor.runWorker(ThreadPoolExecutor.java:1144) [?:?]\n",
      "\tat java.util.concurrent.ThreadPoolExecutor$Worker.run(ThreadPoolExecutor.java:642) [?:?]\n",
      "\tat java.lang.Thread.run(Thread.java:1589) [?:?]\n",
      "2022-11-22T22:36:57,602 [WARN ] W-9000-sentiment_model_0.1-stderr MODEL_LOG - Python \n",
      "2022-11-22T22:36:57,602 [INFO ] W-9000-sentiment_model_0.1-stdout org.pytorch.serve.wlm.WorkerLifeCycle - Stopped Scanner - W-9000-sentiment_model_0.1-stdout\n",
      "2022-11-22T22:36:57,603 [INFO ] W-9000-sentiment_model_0.1-stderr org.pytorch.serve.wlm.WorkerLifeCycle - Stopped Scanner - W-9000-sentiment_model_0.1-stderr\n",
      "2022-11-22T22:36:57,603 [WARN ] W-9000-sentiment_model_0.1 org.pytorch.serve.wlm.WorkerLifeCycle - terminateIOStreams() threadName=W-9000-sentiment_model_0.1-stderr\n",
      "2022-11-22T22:36:57,603 [WARN ] W-9000-sentiment_model_0.1 org.pytorch.serve.wlm.WorkerLifeCycle - terminateIOStreams() threadName=W-9000-sentiment_model_0.1-stdout\n",
      "2022-11-22T22:36:57,604 [ERROR] W-9000-sentiment_model_0.1 org.pytorch.serve.wlm.WorkerThread - Backend worker error\n",
      "org.pytorch.serve.wlm.WorkerInitializationException: Backend stream closed.\n",
      "\tat org.pytorch.serve.wlm.WorkerLifeCycle.startWorker(WorkerLifeCycle.java:155) ~[model-server.jar:?]\n",
      "\tat org.pytorch.serve.wlm.WorkerThread.connect(WorkerThread.java:292) ~[model-server.jar:?]\n",
      "\tat org.pytorch.serve.wlm.WorkerThread.run(WorkerThread.java:179) [model-server.jar:?]\n",
      "\tat java.util.concurrent.Executors$RunnableAdapter.call(Executors.java:577) [?:?]\n",
      "\tat java.util.concurrent.FutureTask.run(FutureTask.java:317) [?:?]\n",
      "\tat java.util.concurrent.ThreadPoolExecutor.runWorker(ThreadPoolExecutor.java:1144) [?:?]\n",
      "\tat java.util.concurrent.ThreadPoolExecutor$Worker.run(ThreadPoolExecutor.java:642) [?:?]\n",
      "\tat java.lang.Thread.run(Thread.java:1589) [?:?]\n",
      "2022-11-22T22:36:59,589 [INFO ] main org.pytorch.serve.ModelServer - Torchserve stopped.\n",
      "Removing orphan pid file.\n"
     ]
    },
    {
     "name": "stderr",
     "output_type": "stream",
     "text": [
      "java.io.IOException: Failed to bind to address: http://127.0.0.1:7863\n",
      "\tat org.pytorch.serve.ModelServer.initializeServer(ModelServer.java:311)\n",
      "\tat org.pytorch.serve.ModelServer.startRESTserver(ModelServer.java:372)\n",
      "\tat org.pytorch.serve.ModelServer.startAndWait(ModelServer.java:117)\n",
      "\tat org.pytorch.serve.ModelServer.main(ModelServer.java:98)\n",
      "Caused by: java.net.BindException: Address already in use: bind\n",
      "\tat java.base/sun.nio.ch.Net.bind0(Native Method)\n",
      "\tat java.base/sun.nio.ch.Net.bind(Net.java:555)\n",
      "\tat java.base/sun.nio.ch.ServerSocketChannelImpl.netBind(ServerSocketChannelImpl.java:344)\n",
      "\tat java.base/sun.nio.ch.ServerSocketChannelImpl.bind(ServerSocketChannelImpl.java:301)\n",
      "\tat io.netty.channel.socket.nio.NioServerSocketChannel.doBind(NioServerSocketChannel.java:134)\n",
      "\tat io.netty.channel.AbstractChannel$AbstractUnsafe.bind(AbstractChannel.java:550)\n",
      "\tat io.netty.channel.DefaultChannelPipeline$HeadContext.bind(DefaultChannelPipeline.java:1334)\n",
      "\tat io.netty.channel.AbstractChannelHandlerContext.invokeBind(AbstractChannelHandlerContext.java:506)\n",
      "\tat io.netty.channel.AbstractChannelHandlerContext.bind(AbstractChannelHandlerContext.java:491)\n",
      "\tat io.netty.channel.DefaultChannelPipeline.bind(DefaultChannelPipeline.java:973)\n",
      "\tat io.netty.channel.AbstractChannel.bind(AbstractChannel.java:248)\n",
      "\tat io.netty.bootstrap.AbstractBootstrap$2.run(AbstractBootstrap.java:356)\n",
      "\tat io.netty.util.concurrent.AbstractEventExecutor.safeExecute(AbstractEventExecutor.java:164)\n",
      "\tat io.netty.util.concurrent.SingleThreadEventExecutor.runAllTasks(SingleThreadEventExecutor.java:472)\n",
      "\tat io.netty.channel.nio.NioEventLoop.run(NioEventLoop.java:500)\n",
      "\tat io.netty.util.concurrent.SingleThreadEventExecutor$4.run(SingleThreadEventExecutor.java:989)\n",
      "\tat io.netty.util.internal.ThreadExecutorMap$2.run(ThreadExecutorMap.java:74)\n",
      "\tat io.netty.util.concurrent.FastThreadLocalRunnable.run(FastThreadLocalRunnable.java:30)\n",
      "\tat java.base/java.lang.Thread.run(Thread.java:1589)\n"
     ]
    }
   ],
   "source": [
    "!torchserve --start --ncs --model-store \"$model_store_dir\" --models sentiment_model=lit_sentiment_model.mar --ts-config ./torchserve.config --foreground"
   ]
  },
  {
   "cell_type": "code",
   "execution_count": null,
   "id": "cb1f1f4d",
   "metadata": {},
   "outputs": [],
   "source": [
    "!streamlit run serving/lit_sent_bert.py --server.port 7864"
   ]
  }
 ],
 "metadata": {
  "kernelspec": {
   "display_name": "Python 3 (ipykernel)",
   "language": "python",
   "name": "python3"
  },
  "language_info": {
   "codemirror_mode": {
    "name": "ipython",
    "version": 3
   },
   "file_extension": ".py",
   "mimetype": "text/x-python",
   "name": "python",
   "nbconvert_exporter": "python",
   "pygments_lexer": "ipython3",
   "version": "3.9.13"
  }
 },
 "nbformat": 4,
 "nbformat_minor": 5
}
